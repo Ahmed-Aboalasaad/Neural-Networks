{
 "cells": [
  {
   "cell_type": "markdown",
   "metadata": {},
   "source": [
    "# Single Perceptron"
   ]
  },
  {
   "cell_type": "code",
   "execution_count": null,
   "metadata": {},
   "outputs": [],
   "source": [
    "class perceptron:\n",
    "    def __init__(self, learning rate, activation_function):\n",
    "        \"initialize learning rate, activation_function as a lambda passed through the constructor, then weights and bias with random values\"\n",
    "        pass\n",
    "\n",
    "    def fit(self, x_train, y_train) -> np.ndarray:\n",
    "        \"returns an np array with the final weights and bias after the fitting process is over\"\n",
    "        pass\n",
    "\n",
    "    def predict(self, x_test) -> np.ndarray:\n",
    "        \"returns an np array of predictions\"\n",
    "        pass\n",
    "\n",
    "\n",
    "\n",
    "\n",
    "\n",
    "\n",
    "    def mean_squared_error(y_true, y_pred):\n",
    "        return ((y_true - y_pred)**2).sum() * (1 / len(y_true))"
   ]
  }
 ],
 "metadata": {
  "kernelspec": {
   "display_name": "Python 3",
   "language": "python",
   "name": "python3"
  },
  "language_info": {
   "name": "python",
   "version": "3.10.11"
  }
 },
 "nbformat": 4,
 "nbformat_minor": 2
}
